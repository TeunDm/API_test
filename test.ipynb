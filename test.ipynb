{
 "cells": [
  {
   "cell_type": "code",
   "execution_count": null,
   "id": "3aa56b01",
   "metadata": {},
   "outputs": [],
   "source": [
    "import pandas"
   ]
  },
  {
   "cell_type": "code",
   "execution_count": 3,
   "id": "42973fcf",
   "metadata": {},
   "outputs": [
    {
     "data": {
      "text/plain": [
       "Index(['Gender', 'Age', 'Have you recently experienced stress in your life?',\n",
       "       'Have you noticed a rapid heartbeat or palpitations?',\n",
       "       'Have you been dealing with anxiety or tension recently?',\n",
       "       'Do you face any sleep problems or difficulties falling asleep?',\n",
       "       'Have you been dealing with anxiety or tension recently?.1',\n",
       "       'Have you been getting headaches more often than usual?',\n",
       "       'Do you get irritated easily?',\n",
       "       'Do you have trouble concentrating on your academic tasks?',\n",
       "       'Have you been feeling sadness or low mood?',\n",
       "       'Have you been experiencing any illness or health issues?',\n",
       "       'Do you often feel lonely or isolated?',\n",
       "       'Do you feel overwhelmed with your academic workload?',\n",
       "       'Are you in competition with your peers, and does it affect you?',\n",
       "       'Do you find that your relationship often causes you stress?',\n",
       "       'Are you facing any difficulties with your professors or instructors?',\n",
       "       'Is your working environment unpleasant or stressful?',\n",
       "       'Do you struggle to find time for relaxation and leisure activities?',\n",
       "       'Is your hostel or home environment causing you difficulties?',\n",
       "       'Do you lack confidence in your academic performance?',\n",
       "       'Do you lack confidence in your choice of academic subjects?',\n",
       "       'Academic and extracurricular activities conflicting for you?',\n",
       "       'Do you attend classes regularly?', 'Have you gained/lost weight?',\n",
       "       'Which type of stress do you primarily experience?'],\n",
       "      dtype='object')"
      ]
     },
     "execution_count": 3,
     "metadata": {},
     "output_type": "execute_result"
    }
   ],
   "source": [
    "import pandas as pd\n",
    "\n",
    "d = pd.read_csv(r\"C:\\Users\\lopke\\Downloads\\Stress_Dataset.csv\")\n",
    "d.columns\n"
   ]
  }
 ],
 "metadata": {
  "kernelspec": {
   "display_name": "Python 3",
   "language": "python",
   "name": "python3"
  },
  "language_info": {
   "codemirror_mode": {
    "name": "ipython",
    "version": 3
   },
   "file_extension": ".py",
   "mimetype": "text/x-python",
   "name": "python",
   "nbconvert_exporter": "python",
   "pygments_lexer": "ipython3",
   "version": "3.11.9"
  }
 },
 "nbformat": 4,
 "nbformat_minor": 5
}
